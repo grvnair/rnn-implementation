{
  "nbformat": 4,
  "nbformat_minor": 0,
  "metadata": {
    "colab": {
      "provenance": [],
      "authorship_tag": "ABX9TyPoPACmd5OwLCRBcl0eWX7g"
    },
    "kernelspec": {
      "name": "python3",
      "display_name": "Python 3"
    },
    "language_info": {
      "name": "python"
    }
  },
  "cells": [
    {
      "cell_type": "markdown",
      "source": [
        "# Computation at hidden state:\n",
        "\\begin{align}\n",
        "h_{t} = x_{t}w_{x} + h_{t-1}w_{a} + b\n",
        "\\end{align}"
      ],
      "metadata": {
        "id": "L2Y3fJIjgaAx"
      }
    },
    {
      "cell_type": "markdown",
      "source": [
        "# Computation at output state:\n",
        "\\begin{align}\n",
        "y_{t} = h_{t}w_{y} + b\n",
        "\\end{align}"
      ],
      "metadata": {
        "id": "YIlYcY7DHavb"
      }
    },
    {
      "cell_type": "code",
      "source": [
        "import numpy as np\n",
        "import pandas as pd\n",
        "import matplotlib.pyplot as plt\n",
        "\n",
        "from sklearn.preprocessing import StandardScaler\n",
        "from sklearn.model_selection import train_test_split\n",
        "import keras\n",
        "import tensorflow\n",
        "from keras.models import Sequential\n",
        "from keras.layers import Dense, SimpleRNN\n",
        "\n",
        "%matplotlib inline"
      ],
      "metadata": {
        "id": "fkcsQ2GFA-ac"
      },
      "execution_count": 1,
      "outputs": []
    },
    {
      "cell_type": "code",
      "source": [
        "url = 'https://raw.githubusercontent.com/grvnair/rnn-implementation/main/ITC.csv'\n",
        "\n",
        "df = pd.read_csv(url)"
      ],
      "metadata": {
        "id": "QyNZOZ3lBMV8"
      },
      "execution_count": 2,
      "outputs": []
    },
    {
      "cell_type": "code",
      "source": [
        "df.head()"
      ],
      "metadata": {
        "colab": {
          "base_uri": "https://localhost:8080/",
          "height": 206
        },
        "id": "Ru-hvgHHCIZJ",
        "outputId": "d018672b-b856-4421-e5fa-0a854452e2b0"
      },
      "execution_count": 3,
      "outputs": [
        {
          "output_type": "execute_result",
          "data": {
            "text/plain": [
              "         Date Symbol Series  Prev Close    Open    High    Low    Last  \\\n",
              "0  2000-01-03    ITC     EQ      656.00  694.00  708.50  675.0  708.50   \n",
              "1  2000-01-04    ITC     EQ      708.50  714.00  729.00  694.3  710.65   \n",
              "2  2000-01-05    ITC     EQ      712.35  716.25  758.90  660.0  731.00   \n",
              "3  2000-01-06    ITC     EQ      726.20  741.00  784.30  741.0  784.30   \n",
              "4  2000-01-07    ITC     EQ      784.30  832.40  847.05  824.0  847.05   \n",
              "\n",
              "    Close    VWAP   Volume      Turnover  Trades  Deliverable Volume  \\\n",
              "0  708.50  701.81   562715  3.949174e+13     NaN                 NaN   \n",
              "1  712.35  714.16   712637  5.089379e+13     NaN                 NaN   \n",
              "2  726.20  732.43  1382149  1.012325e+14     NaN                 NaN   \n",
              "3  784.30  776.63   721618  5.604266e+13     NaN                 NaN   \n",
              "4  847.05  841.25   231209  1.945046e+13     NaN                 NaN   \n",
              "\n",
              "   %Deliverble  \n",
              "0          NaN  \n",
              "1          NaN  \n",
              "2          NaN  \n",
              "3          NaN  \n",
              "4          NaN  "
            ],
            "text/html": [
              "\n",
              "  <div id=\"df-246f2447-109c-421c-934b-94111dddb82b\">\n",
              "    <div class=\"colab-df-container\">\n",
              "      <div>\n",
              "<style scoped>\n",
              "    .dataframe tbody tr th:only-of-type {\n",
              "        vertical-align: middle;\n",
              "    }\n",
              "\n",
              "    .dataframe tbody tr th {\n",
              "        vertical-align: top;\n",
              "    }\n",
              "\n",
              "    .dataframe thead th {\n",
              "        text-align: right;\n",
              "    }\n",
              "</style>\n",
              "<table border=\"1\" class=\"dataframe\">\n",
              "  <thead>\n",
              "    <tr style=\"text-align: right;\">\n",
              "      <th></th>\n",
              "      <th>Date</th>\n",
              "      <th>Symbol</th>\n",
              "      <th>Series</th>\n",
              "      <th>Prev Close</th>\n",
              "      <th>Open</th>\n",
              "      <th>High</th>\n",
              "      <th>Low</th>\n",
              "      <th>Last</th>\n",
              "      <th>Close</th>\n",
              "      <th>VWAP</th>\n",
              "      <th>Volume</th>\n",
              "      <th>Turnover</th>\n",
              "      <th>Trades</th>\n",
              "      <th>Deliverable Volume</th>\n",
              "      <th>%Deliverble</th>\n",
              "    </tr>\n",
              "  </thead>\n",
              "  <tbody>\n",
              "    <tr>\n",
              "      <th>0</th>\n",
              "      <td>2000-01-03</td>\n",
              "      <td>ITC</td>\n",
              "      <td>EQ</td>\n",
              "      <td>656.00</td>\n",
              "      <td>694.00</td>\n",
              "      <td>708.50</td>\n",
              "      <td>675.0</td>\n",
              "      <td>708.50</td>\n",
              "      <td>708.50</td>\n",
              "      <td>701.81</td>\n",
              "      <td>562715</td>\n",
              "      <td>3.949174e+13</td>\n",
              "      <td>NaN</td>\n",
              "      <td>NaN</td>\n",
              "      <td>NaN</td>\n",
              "    </tr>\n",
              "    <tr>\n",
              "      <th>1</th>\n",
              "      <td>2000-01-04</td>\n",
              "      <td>ITC</td>\n",
              "      <td>EQ</td>\n",
              "      <td>708.50</td>\n",
              "      <td>714.00</td>\n",
              "      <td>729.00</td>\n",
              "      <td>694.3</td>\n",
              "      <td>710.65</td>\n",
              "      <td>712.35</td>\n",
              "      <td>714.16</td>\n",
              "      <td>712637</td>\n",
              "      <td>5.089379e+13</td>\n",
              "      <td>NaN</td>\n",
              "      <td>NaN</td>\n",
              "      <td>NaN</td>\n",
              "    </tr>\n",
              "    <tr>\n",
              "      <th>2</th>\n",
              "      <td>2000-01-05</td>\n",
              "      <td>ITC</td>\n",
              "      <td>EQ</td>\n",
              "      <td>712.35</td>\n",
              "      <td>716.25</td>\n",
              "      <td>758.90</td>\n",
              "      <td>660.0</td>\n",
              "      <td>731.00</td>\n",
              "      <td>726.20</td>\n",
              "      <td>732.43</td>\n",
              "      <td>1382149</td>\n",
              "      <td>1.012325e+14</td>\n",
              "      <td>NaN</td>\n",
              "      <td>NaN</td>\n",
              "      <td>NaN</td>\n",
              "    </tr>\n",
              "    <tr>\n",
              "      <th>3</th>\n",
              "      <td>2000-01-06</td>\n",
              "      <td>ITC</td>\n",
              "      <td>EQ</td>\n",
              "      <td>726.20</td>\n",
              "      <td>741.00</td>\n",
              "      <td>784.30</td>\n",
              "      <td>741.0</td>\n",
              "      <td>784.30</td>\n",
              "      <td>784.30</td>\n",
              "      <td>776.63</td>\n",
              "      <td>721618</td>\n",
              "      <td>5.604266e+13</td>\n",
              "      <td>NaN</td>\n",
              "      <td>NaN</td>\n",
              "      <td>NaN</td>\n",
              "    </tr>\n",
              "    <tr>\n",
              "      <th>4</th>\n",
              "      <td>2000-01-07</td>\n",
              "      <td>ITC</td>\n",
              "      <td>EQ</td>\n",
              "      <td>784.30</td>\n",
              "      <td>832.40</td>\n",
              "      <td>847.05</td>\n",
              "      <td>824.0</td>\n",
              "      <td>847.05</td>\n",
              "      <td>847.05</td>\n",
              "      <td>841.25</td>\n",
              "      <td>231209</td>\n",
              "      <td>1.945046e+13</td>\n",
              "      <td>NaN</td>\n",
              "      <td>NaN</td>\n",
              "      <td>NaN</td>\n",
              "    </tr>\n",
              "  </tbody>\n",
              "</table>\n",
              "</div>\n",
              "      <button class=\"colab-df-convert\" onclick=\"convertToInteractive('df-246f2447-109c-421c-934b-94111dddb82b')\"\n",
              "              title=\"Convert this dataframe to an interactive table.\"\n",
              "              style=\"display:none;\">\n",
              "        \n",
              "  <svg xmlns=\"http://www.w3.org/2000/svg\" height=\"24px\"viewBox=\"0 0 24 24\"\n",
              "       width=\"24px\">\n",
              "    <path d=\"M0 0h24v24H0V0z\" fill=\"none\"/>\n",
              "    <path d=\"M18.56 5.44l.94 2.06.94-2.06 2.06-.94-2.06-.94-.94-2.06-.94 2.06-2.06.94zm-11 1L8.5 8.5l.94-2.06 2.06-.94-2.06-.94L8.5 2.5l-.94 2.06-2.06.94zm10 10l.94 2.06.94-2.06 2.06-.94-2.06-.94-.94-2.06-.94 2.06-2.06.94z\"/><path d=\"M17.41 7.96l-1.37-1.37c-.4-.4-.92-.59-1.43-.59-.52 0-1.04.2-1.43.59L10.3 9.45l-7.72 7.72c-.78.78-.78 2.05 0 2.83L4 21.41c.39.39.9.59 1.41.59.51 0 1.02-.2 1.41-.59l7.78-7.78 2.81-2.81c.8-.78.8-2.07 0-2.86zM5.41 20L4 18.59l7.72-7.72 1.47 1.35L5.41 20z\"/>\n",
              "  </svg>\n",
              "      </button>\n",
              "      \n",
              "  <style>\n",
              "    .colab-df-container {\n",
              "      display:flex;\n",
              "      flex-wrap:wrap;\n",
              "      gap: 12px;\n",
              "    }\n",
              "\n",
              "    .colab-df-convert {\n",
              "      background-color: #E8F0FE;\n",
              "      border: none;\n",
              "      border-radius: 50%;\n",
              "      cursor: pointer;\n",
              "      display: none;\n",
              "      fill: #1967D2;\n",
              "      height: 32px;\n",
              "      padding: 0 0 0 0;\n",
              "      width: 32px;\n",
              "    }\n",
              "\n",
              "    .colab-df-convert:hover {\n",
              "      background-color: #E2EBFA;\n",
              "      box-shadow: 0px 1px 2px rgba(60, 64, 67, 0.3), 0px 1px 3px 1px rgba(60, 64, 67, 0.15);\n",
              "      fill: #174EA6;\n",
              "    }\n",
              "\n",
              "    [theme=dark] .colab-df-convert {\n",
              "      background-color: #3B4455;\n",
              "      fill: #D2E3FC;\n",
              "    }\n",
              "\n",
              "    [theme=dark] .colab-df-convert:hover {\n",
              "      background-color: #434B5C;\n",
              "      box-shadow: 0px 1px 3px 1px rgba(0, 0, 0, 0.15);\n",
              "      filter: drop-shadow(0px 1px 2px rgba(0, 0, 0, 0.3));\n",
              "      fill: #FFFFFF;\n",
              "    }\n",
              "  </style>\n",
              "\n",
              "      <script>\n",
              "        const buttonEl =\n",
              "          document.querySelector('#df-246f2447-109c-421c-934b-94111dddb82b button.colab-df-convert');\n",
              "        buttonEl.style.display =\n",
              "          google.colab.kernel.accessAllowed ? 'block' : 'none';\n",
              "\n",
              "        async function convertToInteractive(key) {\n",
              "          const element = document.querySelector('#df-246f2447-109c-421c-934b-94111dddb82b');\n",
              "          const dataTable =\n",
              "            await google.colab.kernel.invokeFunction('convertToInteractive',\n",
              "                                                     [key], {});\n",
              "          if (!dataTable) return;\n",
              "\n",
              "          const docLinkHtml = 'Like what you see? Visit the ' +\n",
              "            '<a target=\"_blank\" href=https://colab.research.google.com/notebooks/data_table.ipynb>data table notebook</a>'\n",
              "            + ' to learn more about interactive tables.';\n",
              "          element.innerHTML = '';\n",
              "          dataTable['output_type'] = 'display_data';\n",
              "          await google.colab.output.renderOutput(dataTable, element);\n",
              "          const docLink = document.createElement('div');\n",
              "          docLink.innerHTML = docLinkHtml;\n",
              "          element.appendChild(docLink);\n",
              "        }\n",
              "      </script>\n",
              "    </div>\n",
              "  </div>\n",
              "  "
            ]
          },
          "metadata": {},
          "execution_count": 3
        }
      ]
    },
    {
      "cell_type": "code",
      "source": [
        "df.columns"
      ],
      "metadata": {
        "colab": {
          "base_uri": "https://localhost:8080/"
        },
        "id": "3whSiTwUCceP",
        "outputId": "c2af7608-fc5a-48c3-d222-83eb47a64da2"
      },
      "execution_count": 4,
      "outputs": [
        {
          "output_type": "execute_result",
          "data": {
            "text/plain": [
              "Index(['Date', 'Symbol', 'Series', 'Prev Close', 'Open', 'High', 'Low', 'Last',\n",
              "       'Close', 'VWAP', 'Volume', 'Turnover', 'Trades', 'Deliverable Volume',\n",
              "       '%Deliverble'],\n",
              "      dtype='object')"
            ]
          },
          "metadata": {},
          "execution_count": 4
        }
      ]
    },
    {
      "cell_type": "code",
      "source": [
        "# To keep things simple, we will only work with the 'Date' and 'close' column\n",
        "\n",
        "df = df.drop(columns=['Symbol', 'Series', 'Prev Close', 'Open', 'High', 'Low', 'Last',\n",
        "       'VWAP', 'Volume', 'Turnover', 'Trades', 'Deliverable Volume',\n",
        "       '%Deliverble'])"
      ],
      "metadata": {
        "id": "v3kXRqdCCLZa"
      },
      "execution_count": 5,
      "outputs": []
    },
    {
      "cell_type": "code",
      "source": [
        "df = df.rename({'Close' : 'Price'}, axis = 1)"
      ],
      "metadata": {
        "id": "WABLRAWGX9xz"
      },
      "execution_count": 6,
      "outputs": []
    },
    {
      "cell_type": "code",
      "source": [
        "df.head()"
      ],
      "metadata": {
        "colab": {
          "base_uri": "https://localhost:8080/",
          "height": 206
        },
        "id": "TcexwXRRCmK-",
        "outputId": "61a63b97-48d0-44ba-da17-2f49be5a45ad"
      },
      "execution_count": 7,
      "outputs": [
        {
          "output_type": "execute_result",
          "data": {
            "text/plain": [
              "         Date   Price\n",
              "0  2000-01-03  708.50\n",
              "1  2000-01-04  712.35\n",
              "2  2000-01-05  726.20\n",
              "3  2000-01-06  784.30\n",
              "4  2000-01-07  847.05"
            ],
            "text/html": [
              "\n",
              "  <div id=\"df-a09eb0d4-364f-40cb-9c8c-efa4a001c628\">\n",
              "    <div class=\"colab-df-container\">\n",
              "      <div>\n",
              "<style scoped>\n",
              "    .dataframe tbody tr th:only-of-type {\n",
              "        vertical-align: middle;\n",
              "    }\n",
              "\n",
              "    .dataframe tbody tr th {\n",
              "        vertical-align: top;\n",
              "    }\n",
              "\n",
              "    .dataframe thead th {\n",
              "        text-align: right;\n",
              "    }\n",
              "</style>\n",
              "<table border=\"1\" class=\"dataframe\">\n",
              "  <thead>\n",
              "    <tr style=\"text-align: right;\">\n",
              "      <th></th>\n",
              "      <th>Date</th>\n",
              "      <th>Price</th>\n",
              "    </tr>\n",
              "  </thead>\n",
              "  <tbody>\n",
              "    <tr>\n",
              "      <th>0</th>\n",
              "      <td>2000-01-03</td>\n",
              "      <td>708.50</td>\n",
              "    </tr>\n",
              "    <tr>\n",
              "      <th>1</th>\n",
              "      <td>2000-01-04</td>\n",
              "      <td>712.35</td>\n",
              "    </tr>\n",
              "    <tr>\n",
              "      <th>2</th>\n",
              "      <td>2000-01-05</td>\n",
              "      <td>726.20</td>\n",
              "    </tr>\n",
              "    <tr>\n",
              "      <th>3</th>\n",
              "      <td>2000-01-06</td>\n",
              "      <td>784.30</td>\n",
              "    </tr>\n",
              "    <tr>\n",
              "      <th>4</th>\n",
              "      <td>2000-01-07</td>\n",
              "      <td>847.05</td>\n",
              "    </tr>\n",
              "  </tbody>\n",
              "</table>\n",
              "</div>\n",
              "      <button class=\"colab-df-convert\" onclick=\"convertToInteractive('df-a09eb0d4-364f-40cb-9c8c-efa4a001c628')\"\n",
              "              title=\"Convert this dataframe to an interactive table.\"\n",
              "              style=\"display:none;\">\n",
              "        \n",
              "  <svg xmlns=\"http://www.w3.org/2000/svg\" height=\"24px\"viewBox=\"0 0 24 24\"\n",
              "       width=\"24px\">\n",
              "    <path d=\"M0 0h24v24H0V0z\" fill=\"none\"/>\n",
              "    <path d=\"M18.56 5.44l.94 2.06.94-2.06 2.06-.94-2.06-.94-.94-2.06-.94 2.06-2.06.94zm-11 1L8.5 8.5l.94-2.06 2.06-.94-2.06-.94L8.5 2.5l-.94 2.06-2.06.94zm10 10l.94 2.06.94-2.06 2.06-.94-2.06-.94-.94-2.06-.94 2.06-2.06.94z\"/><path d=\"M17.41 7.96l-1.37-1.37c-.4-.4-.92-.59-1.43-.59-.52 0-1.04.2-1.43.59L10.3 9.45l-7.72 7.72c-.78.78-.78 2.05 0 2.83L4 21.41c.39.39.9.59 1.41.59.51 0 1.02-.2 1.41-.59l7.78-7.78 2.81-2.81c.8-.78.8-2.07 0-2.86zM5.41 20L4 18.59l7.72-7.72 1.47 1.35L5.41 20z\"/>\n",
              "  </svg>\n",
              "      </button>\n",
              "      \n",
              "  <style>\n",
              "    .colab-df-container {\n",
              "      display:flex;\n",
              "      flex-wrap:wrap;\n",
              "      gap: 12px;\n",
              "    }\n",
              "\n",
              "    .colab-df-convert {\n",
              "      background-color: #E8F0FE;\n",
              "      border: none;\n",
              "      border-radius: 50%;\n",
              "      cursor: pointer;\n",
              "      display: none;\n",
              "      fill: #1967D2;\n",
              "      height: 32px;\n",
              "      padding: 0 0 0 0;\n",
              "      width: 32px;\n",
              "    }\n",
              "\n",
              "    .colab-df-convert:hover {\n",
              "      background-color: #E2EBFA;\n",
              "      box-shadow: 0px 1px 2px rgba(60, 64, 67, 0.3), 0px 1px 3px 1px rgba(60, 64, 67, 0.15);\n",
              "      fill: #174EA6;\n",
              "    }\n",
              "\n",
              "    [theme=dark] .colab-df-convert {\n",
              "      background-color: #3B4455;\n",
              "      fill: #D2E3FC;\n",
              "    }\n",
              "\n",
              "    [theme=dark] .colab-df-convert:hover {\n",
              "      background-color: #434B5C;\n",
              "      box-shadow: 0px 1px 3px 1px rgba(0, 0, 0, 0.15);\n",
              "      filter: drop-shadow(0px 1px 2px rgba(0, 0, 0, 0.3));\n",
              "      fill: #FFFFFF;\n",
              "    }\n",
              "  </style>\n",
              "\n",
              "      <script>\n",
              "        const buttonEl =\n",
              "          document.querySelector('#df-a09eb0d4-364f-40cb-9c8c-efa4a001c628 button.colab-df-convert');\n",
              "        buttonEl.style.display =\n",
              "          google.colab.kernel.accessAllowed ? 'block' : 'none';\n",
              "\n",
              "        async function convertToInteractive(key) {\n",
              "          const element = document.querySelector('#df-a09eb0d4-364f-40cb-9c8c-efa4a001c628');\n",
              "          const dataTable =\n",
              "            await google.colab.kernel.invokeFunction('convertToInteractive',\n",
              "                                                     [key], {});\n",
              "          if (!dataTable) return;\n",
              "\n",
              "          const docLinkHtml = 'Like what you see? Visit the ' +\n",
              "            '<a target=\"_blank\" href=https://colab.research.google.com/notebooks/data_table.ipynb>data table notebook</a>'\n",
              "            + ' to learn more about interactive tables.';\n",
              "          element.innerHTML = '';\n",
              "          dataTable['output_type'] = 'display_data';\n",
              "          await google.colab.output.renderOutput(dataTable, element);\n",
              "          const docLink = document.createElement('div');\n",
              "          docLink.innerHTML = docLinkHtml;\n",
              "          element.appendChild(docLink);\n",
              "        }\n",
              "      </script>\n",
              "    </div>\n",
              "  </div>\n",
              "  "
            ]
          },
          "metadata": {},
          "execution_count": 7
        }
      ]
    },
    {
      "cell_type": "code",
      "source": [
        "df.shape"
      ],
      "metadata": {
        "colab": {
          "base_uri": "https://localhost:8080/"
        },
        "id": "TESMYbJeDQ6S",
        "outputId": "26cfbc0b-075a-442e-dd50-b23885c51bf2"
      },
      "execution_count": 8,
      "outputs": [
        {
          "output_type": "execute_result",
          "data": {
            "text/plain": [
              "(5306, 2)"
            ]
          },
          "metadata": {},
          "execution_count": 8
        }
      ]
    },
    {
      "cell_type": "code",
      "source": [
        "df.dtypes"
      ],
      "metadata": {
        "colab": {
          "base_uri": "https://localhost:8080/"
        },
        "id": "YpTUbZAXEZH5",
        "outputId": "3d0a3c0e-3fc3-42f2-ccfc-5ed84f6ba6b6"
      },
      "execution_count": 9,
      "outputs": [
        {
          "output_type": "execute_result",
          "data": {
            "text/plain": [
              "Date      object\n",
              "Price    float64\n",
              "dtype: object"
            ]
          },
          "metadata": {},
          "execution_count": 9
        }
      ]
    },
    {
      "cell_type": "code",
      "source": [
        "df.isnull().sum()"
      ],
      "metadata": {
        "colab": {
          "base_uri": "https://localhost:8080/"
        },
        "id": "7UCl1r4hDTG4",
        "outputId": "d9bd9f7f-f37a-437f-b999-59f34f24b442"
      },
      "execution_count": 10,
      "outputs": [
        {
          "output_type": "execute_result",
          "data": {
            "text/plain": [
              "Date     0\n",
              "Price    0\n",
              "dtype: int64"
            ]
          },
          "metadata": {},
          "execution_count": 10
        }
      ]
    },
    {
      "cell_type": "code",
      "source": [
        "plt.figure(figsize=[15,8])\n",
        "plt.title(\"ITC stock prices from 2000 to 2021\")\n",
        "plt.plot(df['Date'], df['Price'])\n",
        "plt.xlabel('Period')\n",
        "plt.ylabel('Price')"
      ],
      "metadata": {
        "colab": {
          "base_uri": "https://localhost:8080/",
          "height": 530
        },
        "id": "Z8CjzoK3Cq4R",
        "outputId": "051af49d-cad4-4453-d92e-a65c103ea09d"
      },
      "execution_count": 11,
      "outputs": [
        {
          "output_type": "execute_result",
          "data": {
            "text/plain": [
              "Text(0, 0.5, 'Price')"
            ]
          },
          "metadata": {},
          "execution_count": 11
        },
        {
          "output_type": "display_data",
          "data": {
            "text/plain": [
              "<Figure size 1080x576 with 1 Axes>"
            ],
            "image/png": "[encoded data removed]"
          },
          "metadata": {
            "needs_background": "light"
          }
        }
      ]
    },
    {
      "cell_type": "code",
      "source": [
        "scaler = StandardScaler()\n",
        "scaled_df = scaler.fit_transform(df[['Price']])\n",
        "len(scaled_df)"
      ],
      "metadata": {
        "colab": {
          "base_uri": "https://localhost:8080/"
        },
        "id": "sXOr2RyUC1bv",
        "outputId": "cd8a9e19-253e-4b54-81df-cedad0d109c4"
      },
      "execution_count": 12,
      "outputs": [
        {
          "output_type": "execute_result",
          "data": {
            "text/plain": [
              "5306"
            ]
          },
          "metadata": {},
          "execution_count": 12
        }
      ]
    },
    {
      "cell_type": "code",
      "source": [
        "# While working with time series, we do not need a random train and test dataset. Hence, we will split it manually\n",
        "\n",
        "test_size = 500\n",
        "train_size = len(scaled_df) - test_size\n",
        "print(train_size)"
      ],
      "metadata": {
        "colab": {
          "base_uri": "https://localhost:8080/"
        },
        "id": "fMFPz1KEZiHr",
        "outputId": "2d2f7d13-d257-4ae1-e1e4-cfc56ced2b98"
      },
      "execution_count": 13,
      "outputs": [
        {
          "output_type": "stream",
          "name": "stdout",
          "text": [
            "4806\n"
          ]
        }
      ]
    },
    {
      "cell_type": "code",
      "source": [
        "training_prices = scaled_df[0:train_size,:]\n",
        "test_prices = scaled_df[train_size:,:]\n",
        "\n",
        "print(training_prices.shape, test_prices.shape)"
      ],
      "metadata": {
        "colab": {
          "base_uri": "https://localhost:8080/"
        },
        "id": "qJcy-VPxeg3g",
        "outputId": "e4a4c8d0-d5f9-4652-9d9b-81dc8f27348d"
      },
      "execution_count": 14,
      "outputs": [
        {
          "output_type": "stream",
          "name": "stdout",
          "text": [
            "(4806, 1) (500, 1)\n"
          ]
        }
      ]
    },
    {
      "cell_type": "code",
      "source": [
        "# We will need to modify the dataset for giving input to the RNN model\n",
        "\n",
        "def rnn_input(data, lookback = 1):\n",
        "\n",
        "  x_df, y_df = [], []\n",
        "  for i in range(len(data) - lookback - 1):\n",
        "    # Data points from this point, looking backwards upto lookback\n",
        "    a = data[i:(i + lookback), 0]\n",
        "\n",
        "    x_df.append(a)\n",
        "    y_df.append(data[i + lookback, 0])\n",
        "\n",
        "  return np.array(x_df), np.array(y_df)\n",
        "\n",
        "# Lookback for 100 days\n",
        "lookback = 50\n",
        "\n",
        "# Creating the X and y for training\n",
        "train_x, train_y = rnn_input(training_prices, lookback)\n",
        "\n",
        "train_x = np.reshape(train_x, (train_x.shape[0], 1, train_x.shape[1]))\n",
        "\n",
        "print(train_x.shape, train_y.shape)"
      ],
      "metadata": {
        "colab": {
          "base_uri": "https://localhost:8080/"
        },
        "id": "BTuEFNSZfRuf",
        "outputId": "f71cf106-d294-4046-ee8e-e2af61501160"
      },
      "execution_count": 23,
      "outputs": [
        {
          "output_type": "stream",
          "name": "stdout",
          "text": [
            "(4755, 1, 50) (4755,)\n"
          ]
        }
      ]
    },
    {
      "cell_type": "markdown",
      "source": [
        "# Building the RNN Model"
      ],
      "metadata": {
        "id": "rtcNFl6jpSTG"
      }
    },
    {
      "cell_type": "code",
      "source": [
        "model = Sequential()\n",
        "\n",
        "model.add(SimpleRNN(32, input_shape=(1, lookback)))\n",
        "model.add(Dense(1))\n",
        "\n",
        "model.compile(loss = 'mean_squared_error',\n",
        "              optimizer = 'adam',\n",
        "              metrics = ['mse'])\n",
        "\n",
        "model.summary()"
      ],
      "metadata": {
        "colab": {
          "base_uri": "https://localhost:8080/"
        },
        "id": "TXSkkfFme7pg",
        "outputId": "00292ddf-aaa3-44d1-8849-f705c8cb3ff3"
      },
      "execution_count": 24,
      "outputs": [
        {
          "output_type": "stream",
          "name": "stdout",
          "text": [
            "Model: \"sequential_1\"\n",
            "_________________________________________________________________\n",
            " Layer (type)                Output Shape              Param #   \n",
            "=================================================================\n",
            " simple_rnn_1 (SimpleRNN)    (None, 32)                2656      \n",
            "                                                                 \n",
            " dense_1 (Dense)             (None, 1)                 33        \n",
            "                                                                 \n",
            "=================================================================\n",
            "Total params: 2,689\n",
            "Trainable params: 2,689\n",
            "Non-trainable params: 0\n",
            "_________________________________________________________________\n"
          ]
        }
      ]
    },
    {
      "cell_type": "code",
      "source": [
        "model.fit(train_x, train_y, epochs = 5, batch_size = 1)"
      ],
      "metadata": {
        "colab": {
          "base_uri": "https://localhost:8080/"
        },
        "id": "z9DhKKKquHLA",
        "outputId": "60e67080-a659-42d4-928d-4b0de5ee7ec7"
      },
      "execution_count": 25,
      "outputs": [
        {
          "output_type": "stream",
          "name": "stdout",
          "text": [
            "Epoch 1/5\n",
            "4755/4755 [==============================] - 10s 2ms/step - loss: 0.0457 - mse: 0.0457\n",
            "Epoch 2/5\n",
            "4755/4755 [==============================] - 9s 2ms/step - loss: 0.0302 - mse: 0.0302\n",
            "Epoch 3/5\n",
            "4755/4755 [==============================] - 9s 2ms/step - loss: 0.0347 - mse: 0.0347\n",
            "Epoch 4/5\n",
            "4755/4755 [==============================] - 9s 2ms/step - loss: 0.0262 - mse: 0.0262\n",
            "Epoch 5/5\n",
            "4755/4755 [==============================] - 9s 2ms/step - loss: 0.0303 - mse: 0.0303\n"
          ]
        },
        {
          "output_type": "execute_result",
          "data": {
            "text/plain": [
              "<keras.callbacks.History at 0x7f300f65af70>"
            ]
          },
          "metadata": {},
          "execution_count": 25
        }
      ]
    },
    {
      "cell_type": "markdown",
      "source": [
        "# Testing the Model"
      ],
      "metadata": {
        "id": "66ZoE3cdubRo"
      }
    },
    {
      "cell_type": "code",
      "source": [
        "# Test set preparation\n",
        "\n",
        "test_x, test_y = rnn_input(test_prices, lookback)\n",
        "\n",
        "test_x = np.reshape(test_x, (test_x.shape[0], 1, test_x.shape[1]))\n",
        "\n",
        "print(test_x.shape, test_y.shape)"
      ],
      "metadata": {
        "colab": {
          "base_uri": "https://localhost:8080/"
        },
        "id": "inXaEkqTuVQg",
        "outputId": "4140aafc-49c9-4502-e42d-f49e2b5ed1be"
      },
      "execution_count": 26,
      "outputs": [
        {
          "output_type": "stream",
          "name": "stdout",
          "text": [
            "(449, 1, 50) (449,)\n"
          ]
        }
      ]
    },
    {
      "cell_type": "code",
      "source": [
        "predictions = model.predict(test_x)"
      ],
      "metadata": {
        "colab": {
          "base_uri": "https://localhost:8080/"
        },
        "id": "YxtSTP2DgFQy",
        "outputId": "c363ed45-a91c-4a97-c5ef-1482b3610c8a"
      },
      "execution_count": 27,
      "outputs": [
        {
          "output_type": "stream",
          "name": "stdout",
          "text": [
            "15/15 [==============================] - 0s 2ms/step\n"
          ]
        }
      ]
    },
    {
      "cell_type": "code",
      "source": [
        "# As we scaled the values initially, we will need to inverse it to get the correct output\n",
        "\n",
        "predictions = scaler.inverse_transform(predictions)"
      ],
      "metadata": {
        "id": "x8W38M7MgT1J"
      },
      "execution_count": 28,
      "outputs": []
    },
    {
      "cell_type": "markdown",
      "source": [
        "# Visualizing Predictions "
      ],
      "metadata": {
        "id": "OQHkqzjKhPM9"
      }
    },
    {
      "cell_type": "code",
      "source": [
        "orig = df[['Price']].loc[len(scaled_df) - len(predictions):]\n",
        "orig.reset_index(drop = True, inplace = True)"
      ],
      "metadata": {
        "id": "gXdzVdE3gnJe"
      },
      "execution_count": 29,
      "outputs": []
    },
    {
      "cell_type": "code",
      "source": [
        "plt.figure(figsize=[15,10])\n",
        "plt.plot(orig, label = 'Original Price')\n",
        "plt.plot(predictions, label = 'Predicted Price')\n",
        "plt.legend()"
      ],
      "metadata": {
        "colab": {
          "base_uri": "https://localhost:8080/",
          "height": 609
        },
        "id": "rTKvFa43jHS2",
        "outputId": "56fd74f7-40b5-407e-b49a-aec5eaaf5ec5"
      },
      "execution_count": 30,
      "outputs": [
        {
          "output_type": "execute_result",
          "data": {
            "text/plain": [
              "<matplotlib.legend.Legend at 0x7f300f6d19a0>"
            ]
          },
          "metadata": {},
          "execution_count": 30
        },
        {
          "output_type": "display_data",
          "data": {
            "text/plain": [
              "<Figure size 1080x720 with 1 Axes>"
            ],
            "image/png": "[encoded data removed]"
          },
          "metadata": {
            "needs_background": "light"
          }
        }
      ]
    }
  ]
}